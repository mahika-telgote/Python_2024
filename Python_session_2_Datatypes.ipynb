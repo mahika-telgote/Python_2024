{
 "cells": [
  {
   "cell_type": "markdown",
   "id": "2a474cfd-c9bb-486c-adb6-182999e4f14a",
   "metadata": {},
   "source": [
    "**Data types**\n",
    "\n",
    "- in python type declare not required\n",
    "\n"
   ]
  },
  {
   "cell_type": "code",
   "execution_count": 1,
   "id": "d8bd2073-95f2-47f3-8b5d-6b04c38db94c",
   "metadata": {},
   "outputs": [
    {
     "ename": "SyntaxError",
     "evalue": "invalid syntax (4230438746.py, line 1)",
     "output_type": "error",
     "traceback": [
      "\u001b[1;36m  Cell \u001b[1;32mIn[1], line 1\u001b[1;36m\u001b[0m\n\u001b[1;33m    **integer**\u001b[0m\n\u001b[1;37m    ^\u001b[0m\n\u001b[1;31mSyntaxError\u001b[0m\u001b[1;31m:\u001b[0m invalid syntax\n"
     ]
    }
   ],
   "source": [
    "**integer**"
   ]
  },
  {
   "cell_type": "markdown",
   "id": "1b7f8a5f-1a35-4a3e-a11b-937a3e910bd0",
   "metadata": {},
   "source": [
    "**integer**"
   ]
  },
  {
   "cell_type": "code",
   "execution_count": 1,
   "id": "e18473fd-a2f6-42a3-9dfe-78cc9b0d10d5",
   "metadata": {},
   "outputs": [],
   "source": [
    "import os"
   ]
  },
  {
   "cell_type": "code",
   "execution_count": 2,
   "id": "b15b5cff-6375-4b6f-8cb8-d01de5240261",
   "metadata": {},
   "outputs": [
    {
     "data": {
      "text/plain": [
       "'C:\\\\Users\\\\91957\\\\Documents\\\\Python'"
      ]
     },
     "execution_count": 2,
     "metadata": {},
     "output_type": "execute_result"
    }
   ],
   "source": [
    "os.getcwd()"
   ]
  },
  {
   "cell_type": "code",
   "execution_count": 3,
   "id": "89e79ff0-5b36-4e73-872f-8be01002291b",
   "metadata": {},
   "outputs": [
    {
     "data": {
      "text/plain": [
       "float"
      ]
     },
     "execution_count": 3,
     "metadata": {},
     "output_type": "execute_result"
    }
   ],
   "source": [
    "float"
   ]
  },
  {
   "cell_type": "code",
   "execution_count": 4,
   "id": "6f55ed3c-c8d5-4623-bb61-85a168325f5a",
   "metadata": {},
   "outputs": [
    {
     "data": {
      "text/plain": [
       "float"
      ]
     },
     "execution_count": 4,
     "metadata": {},
     "output_type": "execute_result"
    }
   ],
   "source": [
    "n1=1005.00\n",
    "type(n1)"
   ]
  },
  {
   "cell_type": "code",
   "execution_count": 5,
   "id": "874e50ef-afac-4a98-8168-1d298181e6e7",
   "metadata": {},
   "outputs": [
    {
     "data": {
      "text/plain": [
       "(10.0, 100.0, 1000.0, 10000.0)"
      ]
     },
     "execution_count": 5,
     "metadata": {},
     "output_type": "execute_result"
    }
   ],
   "source": [
    "1e1,1e2,1e3,1e4\n",
    "#kep=k*10^p"
   ]
  },
  {
   "cell_type": "code",
   "execution_count": 6,
   "id": "4218bd19-50db-4258-8d3a-7dbcb1e3eb5c",
   "metadata": {},
   "outputs": [
    {
     "data": {
      "text/plain": [
       "24000.0"
      ]
     },
     "execution_count": 6,
     "metadata": {},
     "output_type": "execute_result"
    }
   ],
   "source": [
    "24e3\n",
    "#24*10^3"
   ]
  },
  {
   "cell_type": "code",
   "execution_count": 7,
   "id": "7e2637ed-76ad-43ec-8e79-75f5a70afe4f",
   "metadata": {},
   "outputs": [
    {
     "data": {
      "text/plain": [
       "(10.0, 100.0, 1000.0, 10000.0)"
      ]
     },
     "execution_count": 7,
     "metadata": {},
     "output_type": "execute_result"
    }
   ],
   "source": [
    "1e+1,1e+2,1e+3,1e+4"
   ]
  },
  {
   "cell_type": "code",
   "execution_count": 8,
   "id": "3d518185-3528-45ca-aada-9f8ddf71914a",
   "metadata": {},
   "outputs": [
    {
     "data": {
      "text/plain": [
       "(0.1, 0.01, 0.001, 0.0001)"
      ]
     },
     "execution_count": 8,
     "metadata": {},
     "output_type": "execute_result"
    }
   ],
   "source": [
    "1e-1,1e-2,1e-3,1e-4"
   ]
  },
  {
   "cell_type": "code",
   "execution_count": 9,
   "id": "e278ae8b-5e7d-4d07-af34-c281a8955dfb",
   "metadata": {},
   "outputs": [
    {
     "data": {
      "text/plain": [
       "0.024"
      ]
     },
     "execution_count": 9,
     "metadata": {},
     "output_type": "execute_result"
    }
   ],
   "source": [
    "24e-3  # 24/1000= 0.024"
   ]
  },
  {
   "cell_type": "code",
   "execution_count": 10,
   "id": "5d972e68-6131-4dec-ba95-995019076f84",
   "metadata": {},
   "outputs": [
    {
     "ename": "SyntaxError",
     "evalue": "invalid syntax (962210603.py, line 1)",
     "output_type": "error",
     "traceback": [
      "\u001b[1;36m  Cell \u001b[1;32mIn[10], line 1\u001b[1;36m\u001b[0m\n\u001b[1;33m    - positive sign means multiply\u001b[0m\n\u001b[1;37m               ^\u001b[0m\n\u001b[1;31mSyntaxError\u001b[0m\u001b[1;31m:\u001b[0m invalid syntax\n"
     ]
    }
   ],
   "source": [
    "- positive sign means multiply\n",
    "\n",
    "- negative means divivde"
   ]
  },
  {
   "cell_type": "markdown",
   "id": "b701cae2-550e-4c53-abd6-a5d41151c63b",
   "metadata": {},
   "source": []
  },
  {
   "cell_type": "markdown",
   "id": "973bd6fd-c346-4fc0-985b-912ba9543690",
   "metadata": {},
   "source": [
    "**strings**"
   ]
  },
  {
   "cell_type": "markdown",
   "id": "e2477c7f-8962-466e-a08d-eccb9938918d",
   "metadata": {},
   "source": [
    "- strings are used to represent the english characters generally\n",
    "\n",
    "- strings will represent in\n",
    "\n",
    "    - single quotes\n",
    "\n",
    "    - double quotes\n",
    "    \n",
    "    - triple quotes"
   ]
  },
  {
   "cell_type": "code",
   "execution_count": 11,
   "id": "01c15e6a-4c96-494c-b1b8-3451e2d49717",
   "metadata": {},
   "outputs": [
    {
     "data": {
      "text/plain": [
       "str"
      ]
     },
     "execution_count": 11,
     "metadata": {},
     "output_type": "execute_result"
    }
   ],
   "source": [
    "name='python'\n",
    "type(name)"
   ]
  },
  {
   "cell_type": "code",
   "execution_count": 12,
   "id": "5c7795cb-0927-42d2-9c66-1619c21553a9",
   "metadata": {},
   "outputs": [
    {
     "data": {
      "text/plain": [
       "str"
      ]
     },
     "execution_count": 12,
     "metadata": {},
     "output_type": "execute_result"
    }
   ],
   "source": [
    "name=\"python\"\n",
    "type(name)"
   ]
  },
  {
   "cell_type": "code",
   "execution_count": 13,
   "id": "2135070c-2bcb-46cf-86df-b5c475ccc995",
   "metadata": {},
   "outputs": [
    {
     "data": {
      "text/plain": [
       "str"
      ]
     },
     "execution_count": 13,
     "metadata": {},
     "output_type": "execute_result"
    }
   ],
   "source": [
    "name2='10'\n",
    "type(name2)"
   ]
  },
  {
   "cell_type": "code",
   "execution_count": 14,
   "id": "097e0eab-b634-4574-9334-386dd674c873",
   "metadata": {},
   "outputs": [
    {
     "data": {
      "text/plain": [
       "str"
      ]
     },
     "execution_count": 14,
     "metadata": {},
     "output_type": "execute_result"
    }
   ],
   "source": [
    "email_id='mahikatelgote258@gmail.com'\n",
    "type(email_id)"
   ]
  },
  {
   "cell_type": "markdown",
   "id": "530a7a0b-ce8a-42dd-85a9-5e66108f8f8c",
   "metadata": {},
   "source": [
    "**RED COLOUR MEANS STRINGS**\n",
    "**GREEN COLOUR MEANS KEYWORDS**\n",
    "**BALCK COLOUR MEANS VARIABLES**"
   ]
  },
  {
   "cell_type": "markdown",
   "id": "7e3c90f5-2493-4204-9212-c4073ff4c169",
   "metadata": {},
   "source": [
    "**RED COLOUR MEANS STRINGS**\n",
    "\n",
    "**GREEN COLOUR MEANS KEYWORDS**\n",
    "\n",
    "**BLACK COLOUR MEANS VARIABLES**"
   ]
  },
  {
   "cell_type": "code",
   "execution_count": 15,
   "id": "91e8dcbe-3e30-4996-83ba-ed4aeb9d024a",
   "metadata": {},
   "outputs": [],
   "source": [
    "name='python'\n",
    "name1=\"pyhton\"\n",
    "\n"
   ]
  },
  {
   "cell_type": "code",
   "execution_count": 16,
   "id": "dab8faf5-edad-42f3-873f-edbe7e83d29f",
   "metadata": {},
   "outputs": [
    {
     "data": {
      "text/plain": [
       "'python'"
      ]
     },
     "execution_count": 16,
     "metadata": {},
     "output_type": "execute_result"
    }
   ],
   "source": [
    "name"
   ]
  },
  {
   "cell_type": "code",
   "execution_count": 17,
   "id": "ecee5621-3df7-4b5f-8d41-8a09cfe85f60",
   "metadata": {},
   "outputs": [
    {
     "data": {
      "text/plain": [
       "'pyhton'"
      ]
     },
     "execution_count": 17,
     "metadata": {},
     "output_type": "execute_result"
    }
   ],
   "source": [
    "name1"
   ]
  },
  {
   "cell_type": "markdown",
   "id": "3a921f6d-556d-4afd-95fb-d8171fabdaf9",
   "metadata": {},
   "source": [
    "- output always comes in single quotes"
   ]
  },
  {
   "cell_type": "code",
   "execution_count": 18,
   "id": "81dbba2b-6fa0-4b21-aad9-c3e24534e390",
   "metadata": {},
   "outputs": [
    {
     "name": "stdout",
     "output_type": "stream",
     "text": [
      "python\n"
     ]
    }
   ],
   "source": [
    "print(name)"
   ]
  },
  {
   "cell_type": "markdown",
   "id": "b7eb5265-7574-42d6-9978-5becca8ec6b1",
   "metadata": {},
   "source": [
    "- whenever you print quotes will not visible"
   ]
  },
  {
   "cell_type": "code",
   "execution_count": 19,
   "id": "e7778b7c-78d6-4723-834f-7b29cfe2a2f5",
   "metadata": {},
   "outputs": [
    {
     "name": "stdout",
     "output_type": "stream",
     "text": [
      "i like 'python'\n"
     ]
    }
   ],
   "source": [
    "name=\"i like 'python'\"\n",
    "print(name)"
   ]
  },
  {
   "cell_type": "code",
   "execution_count": 20,
   "id": "0dd93711-d26c-47f0-b7ac-d3908aabb773",
   "metadata": {},
   "outputs": [
    {
     "name": "stdout",
     "output_type": "stream",
     "text": [
      "i like \"python\"\n"
     ]
    }
   ],
   "source": [
    "str='i like \"python\"'\n",
    "print(str)"
   ]
  },
  {
   "cell_type": "markdown",
   "id": "453c2374-0008-4fd7-8a3d-d0cf40222791",
   "metadata": {},
   "source": [
    "- Entire string in doub;e quotes, the highlighted word in single quotes and vice versa"
   ]
  },
  {
   "cell_type": "markdown",
   "id": "8295e538-75b7-4fb5-a884-c593e92d6710",
   "metadata": {},
   "source": [
    "***Triple quotes***\n",
    "\n",
    "- Triple quotes is not used for coding\n",
    "\n",
    "- Triple codes is used to provide the infirmation to the user\n",
    "\n",
    "- In order to provide the information in jupyternotebook we will Markdown\n",
    "\n",
    "- In vscode or pycharm there is no markdown option\n",
    "\n",
    "- Thats why the world start used to write the information in triple quotes\n",
    "\n",
    "- This entire proccess is called **Doc String**"
   ]
  },
  {
   "cell_type": "markdown",
   "id": "8b66d5b4-cdc0-4e4f-9965-0f6dc159745b",
   "metadata": {},
   "source": [
    "\"\"\"\n",
    "hello\n",
    "in writing python code\n",
    "this python\n",
    "\"\"\""
   ]
  },
  {
   "cell_type": "markdown",
   "id": "d885a434-e0b8-45b9-9692-933f24c5575d",
   "metadata": {},
   "source": [
    "\"\"\"\n",
    "ajakjaia\n",
    "sdjhdfifh\n",
    "dsfihhidf\n",
    "\"\"\""
   ]
  },
  {
   "cell_type": "markdown",
   "id": "b05d4895-f78f-4d9e-81c7-2674e8a3a563",
   "metadata": {},
   "source": [
    "\"\"\"\n",
    "i am mahika\n",
    "i am good\n",
    "i am fine\n",
    "\"\"\"\""
   ]
  },
  {
   "cell_type": "code",
   "execution_count": 1,
   "id": "db20d371-081d-4724-99bd-771962907008",
   "metadata": {},
   "outputs": [
    {
     "data": {
      "text/plain": [
       "'\\ni am mahika\\ni am fine \\ni am good\\n'"
      ]
     },
     "execution_count": 1,
     "metadata": {},
     "output_type": "execute_result"
    }
   ],
   "source": [
    "\"\"\"\n",
    "i am mahika\n",
    "i am fine \n",
    "i am good\n",
    "\"\"\""
   ]
  },
  {
   "cell_type": "markdown",
   "id": "ffe5b703-ceb5-4101-8b59-ac738a7c3948",
   "metadata": {},
   "source": [
    "**Boolean**"
   ]
  },
  {
   "cell_type": "code",
   "execution_count": 22,
   "id": "5514ca93-8031-48ae-8dfe-83b8c2d467d2",
   "metadata": {},
   "outputs": [
    {
     "data": {
      "text/plain": [
       "bool"
      ]
     },
     "execution_count": 22,
     "metadata": {},
     "output_type": "execute_result"
    }
   ],
   "source": [
    "value=True\n",
    "type(value)"
   ]
  },
  {
   "cell_type": "code",
   "execution_count": 23,
   "id": "d97af8e4-2b3b-4907-adde-8967d325815b",
   "metadata": {},
   "outputs": [
    {
     "data": {
      "text/plain": [
       "bool"
      ]
     },
     "execution_count": 23,
     "metadata": {},
     "output_type": "execute_result"
    }
   ],
   "source": [
    "value1=False\n",
    "type(value1)"
   ]
  },
  {
   "cell_type": "code",
   "execution_count": null,
   "id": "1e16ad52-72f4-495f-860a-b12e18015762",
   "metadata": {},
   "outputs": [],
   "source": [
    "true=\"True\"\n",
    "false=False\n",
    "\n",
    "# true and false are variables\n",
    "# type true is string\n",
    "# type false is boolean"
   ]
  },
  {
   "cell_type": "markdown",
   "id": "bc3741b0-798c-496e-95f0-21227c94114c",
   "metadata": {},
   "source": [
    "***mahika***"
   ]
  },
  {
   "cell_type": "markdown",
   "id": "bf00f2c9-8f31-49b3-998a-8d178c603cbe",
   "metadata": {},
   "source": [
    "***triple quotes***"
   ]
  },
  {
   "cell_type": "markdown",
   "id": "758d33da-cfa6-41ea-b9ea-bb034a79a9bb",
   "metadata": {},
   "source": [
    "## mahika"
   ]
  },
  {
   "cell_type": "markdown",
   "id": "c4fa44f1-f4ae-4e03-b953-33b087ca4177",
   "metadata": {},
   "source": [
    "$mahika$"
   ]
  },
  {
   "cell_type": "code",
   "execution_count": 6,
   "id": "a873ba7a-41e0-4f31-83f1-89b6aa7c6507",
   "metadata": {},
   "outputs": [],
   "source": [
    "true=True"
   ]
  },
  {
   "cell_type": "raw",
   "id": "dc98cc52-dd81-4153-be8f-bcf0cf96704a",
   "metadata": {},
   "source": [
    "true"
   ]
  },
  {
   "cell_type": "code",
   "execution_count": 7,
   "id": "cc30461d-9c23-4cdd-b951-5f14779971d0",
   "metadata": {},
   "outputs": [],
   "source": [
    "n1=100"
   ]
  },
  {
   "cell_type": "code",
   "execution_count": 8,
   "id": "b1f2d760-599a-4534-8a79-7bbbac11446d",
   "metadata": {},
   "outputs": [
    {
     "data": {
      "text/plain": [
       "100"
      ]
     },
     "execution_count": 8,
     "metadata": {},
     "output_type": "execute_result"
    }
   ],
   "source": [
    "n1"
   ]
  },
  {
   "cell_type": "code",
   "execution_count": 9,
   "id": "a55a0324-7555-4d89-9f3a-91f3f8b23554",
   "metadata": {},
   "outputs": [],
   "source": [
    "n1=100"
   ]
  },
  {
   "cell_type": "code",
   "execution_count": 10,
   "id": "63fea1b5-7455-4bf8-93fb-aa7b1dc02858",
   "metadata": {},
   "outputs": [
    {
     "data": {
      "text/plain": [
       "100"
      ]
     },
     "execution_count": 10,
     "metadata": {},
     "output_type": "execute_result"
    }
   ],
   "source": [
    "n1"
   ]
  },
  {
   "cell_type": "code",
   "execution_count": 11,
   "id": "b0351213-88ff-450a-a800-b7d8a784df99",
   "metadata": {},
   "outputs": [],
   "source": [
    "true=True"
   ]
  },
  {
   "cell_type": "code",
   "execution_count": 12,
   "id": "d9e3da27-40d5-4c68-bfaa-de46d819a6b9",
   "metadata": {},
   "outputs": [
    {
     "data": {
      "text/plain": [
       "True"
      ]
     },
     "execution_count": 12,
     "metadata": {},
     "output_type": "execute_result"
    }
   ],
   "source": [
    "true"
   ]
  },
  {
   "cell_type": "code",
   "execution_count": 13,
   "id": "a4d4618a-316e-4e50-a89d-ddc3449ea581",
   "metadata": {},
   "outputs": [
    {
     "data": {
      "text/plain": [
       "bool"
      ]
     },
     "execution_count": 13,
     "metadata": {},
     "output_type": "execute_result"
    }
   ],
   "source": [
    "true=True\n",
    "type(true)"
   ]
  },
  {
   "cell_type": "code",
   "execution_count": null,
   "id": "95d4650f-e928-4560-b9e2-552a6d70ebad",
   "metadata": {},
   "outputs": [],
   "source": []
  }
 ],
 "metadata": {
  "kernelspec": {
   "display_name": "Python 3 (ipykernel)",
   "language": "python",
   "name": "python3"
  },
  "language_info": {
   "codemirror_mode": {
    "name": "ipython",
    "version": 3
   },
   "file_extension": ".py",
   "mimetype": "text/x-python",
   "name": "python",
   "nbconvert_exporter": "python",
   "pygments_lexer": "ipython3",
   "version": "3.11.7"
  }
 },
 "nbformat": 4,
 "nbformat_minor": 5
}
